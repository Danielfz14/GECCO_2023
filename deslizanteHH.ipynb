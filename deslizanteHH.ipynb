{
 "cells": [
  {
   "cell_type": "code",
   "execution_count": null,
   "id": "c95378cb",
   "metadata": {},
   "outputs": [],
   "source": [
    "import Aplicaciones as Pc\n",
    "import tools as tl\n",
    "import metaheuristic as mh\n",
    "fun = Pc.P15(3)\n",
    "heur=[('swarm_dynamic', {'factor': 0.7, 'self_conf': 2.54, 'swarm_conf': 2.56, 'version': 'inertial', 'distribution': 'levy'}, 'greedy')\n",
    "      ('genetic_crossover', {'pairing': 'tournament_2_100', 'crossover': 'blend', 'mating_pool_factor': 0.4}, 'probabilistic')]\n",
    "prob=fun. get_formatted_problem ()\n",
    "met= mh. Metaheuristic (prob , heur ,num_agents=20, num_iterations=30)\n",
    "met.run()\n",
    "met.get_solution()\n"
   ]
  }
 ],
 "metadata": {
  "kernelspec": {
   "display_name": "Python 3 (ipykernel)",
   "language": "python",
   "name": "python3"
  },
  "language_info": {
   "codemirror_mode": {
    "name": "ipython",
    "version": 3
   },
   "file_extension": ".py",
   "mimetype": "text/x-python",
   "name": "python",
   "nbconvert_exporter": "python",
   "pygments_lexer": "ipython3",
   "version": "3.9.7"
  }
 },
 "nbformat": 4,
 "nbformat_minor": 5
}
