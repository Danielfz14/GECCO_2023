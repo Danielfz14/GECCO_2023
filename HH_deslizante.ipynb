{
 "cells": [
  {
   "cell_type": "code",
   "execution_count": null,
   "id": "c8cb5751",
   "metadata": {},
   "outputs": [],
   "source": [
    "import Aplicaciones as Pc\n",
    "import hyperheuristic as hh\n",
    "import tools as tl\n",
    "import metaheuristic as mh\n",
    "import numpy as np\n",
    "import time\n",
    "import random"
   ]
  },
  {
   "cell_type": "code",
   "execution_count": null,
   "id": "3b1248cb",
   "metadata": {},
   "outputs": [],
   "source": [
    "fun=Pc.P15(3)\n",
    "fun = Pc.P15(3)\n",
    "prob = fun. get_formatted_problem ()"
   ]
  },
  {
   "cell_type": "code",
   "execution_count": null,
   "id": "9bf3c113",
   "metadata": {},
   "outputs": [],
   "source": [
    "parameters = {\n",
    "    'cardinality': 3,     # Max. number of search operators\n",
    "    'num_iterations': 30, # Max. number of iterations\n",
    "    'num_agents': 20,     # Number of agents (populationsize)\n",
    "    'num_replicas': 60,   # Number of replicas per metaheuristic\n",
    "    'num_steps': 10,      # Max. number of steps (hyper -heuristics)\n",
    "    'stagnation_percentage': 0.4, # Allowed stagnation percentage\n",
    "    'max_temperature': 200, # Initial temperature ( Simulated Annealing)\n",
    "    'cooling_rate': 0.05    # Cooling rate (Simulated Annealing)\n",
    "}\n",
    "hyp = hh. Hyperheuristic ('default.txt', problem=prob,file_label ='Gecco_des',parameters=parameters)"
   ]
  },
  {
   "cell_type": "code",
   "execution_count": null,
   "id": "fa1d5d46",
   "metadata": {},
   "outputs": [],
   "source": [
    "   sol , perf , e_sol = hyp.run ()"
   ]
  }
 ],
 "metadata": {
  "kernelspec": {
   "display_name": "Python 3 (ipykernel)",
   "language": "python",
   "name": "python3"
  },
  "language_info": {
   "codemirror_mode": {
    "name": "ipython",
    "version": 3
   },
   "file_extension": ".py",
   "mimetype": "text/x-python",
   "name": "python",
   "nbconvert_exporter": "python",
   "pygments_lexer": "ipython3",
   "version": "3.9.7"
  }
 },
 "nbformat": 4,
 "nbformat_minor": 5
}
