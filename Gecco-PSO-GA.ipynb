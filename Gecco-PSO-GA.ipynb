{
 "cells": [
  {
   "cell_type": "code",
   "execution_count": 9,
   "id": "181362c8",
   "metadata": {},
   "outputs": [],
   "source": [
    "import numpy as np\n",
    "import time\n",
    "import random\n",
    "import matlab.engine \n",
    "eng=matlab.engine.start_matlab()\n",
    "eng = matlab.engine.start_matlab(\"-desktop\")"
   ]
  },
  {
   "cell_type": "code",
   "execution_count": 10,
   "id": "7a4cac8d",
   "metadata": {},
   "outputs": [],
   "source": [
    "def func(x):    \n",
    "    x1, x2, x3 = x\n",
    "    fcost=eng.HHmododeslizante2(float(x1),float(x2),float(x3))    \n",
    "    return fcost\n"
   ]
  },
  {
   "cell_type": "code",
   "execution_count": 12,
   "id": "630717ee",
   "metadata": {},
   "outputs": [
    {
     "name": "stdout",
     "output_type": "stream",
     "text": [
      "best_x is  [7.24068574e+01 1.00000000e-04 1.12861169e+00] best_y is [0.00797343]\n"
     ]
    },
    {
     "data": {
      "image/png": "[encoded data removed]",
      "text/plain": [
       "<Figure size 432x288 with 1 Axes>"
      ]
     },
     "metadata": {
      "needs_background": "light"
     },
     "output_type": "display_data"
    }
   ],
   "source": [
    "# %% Do PSO\n",
    "from sko.PSO import PSO\n",
    "\n",
    "pso = PSO(func=func, n_dim=3, pop=20, max_iter=30, lb=[0.1, 0.0, 0.1], ub=[100.0, 1.5, 5.0], w=0.8, c1=0.5, c2=0.5)\n",
    "pso.run()\n",
    "print('best_x is ', pso.gbest_x, 'best_y is', pso.gbest_y)\n",
    "\n",
    "# %% Plot the result\n",
    "import matplotlib.pyplot as plt\n",
    "\n",
    "plt.plot(pso.gbest_y_hist)\n",
    "plt.show()"
   ]
  },
  {
   "cell_type": "code",
   "execution_count": 16,
   "id": "aefdc492",
   "metadata": {},
   "outputs": [
    {
     "name": "stdout",
     "output_type": "stream",
     "text": [
      "best_x: [6.39643797e+01 3.30028804e-04 9.43859645e-01] \n",
      " best_y: [0.12459795]\n"
     ]
    }
   ],
   "source": [
    "# %%\n",
    "from sko.GA import GA\n",
    "\n",
    "ga = GA(func=func, n_dim=3, size_pop=50, max_iter=300, prob_mut=0.001, lb=[0.1, 0.0, 0.1], ub=[100.0, 1.5, 5.0], precision=1e-7)\n",
    "best_x, best_y = ga.run()\n",
    "print('best_x:', best_x, '\\n', 'best_y:', best_y)\n"
   ]
  },
  {
   "cell_type": "code",
   "execution_count": 17,
   "id": "a1fea8f2",
   "metadata": {},
   "outputs": [
    {
     "data": {
      "image/png": "[encoded data removed]",
      "text/plain": [
       "<Figure size 432x288 with 2 Axes>"
      ]
     },
     "metadata": {
      "needs_background": "light"
     },
     "output_type": "display_data"
    }
   ],
   "source": [
    "import pandas as pd\n",
    "import matplotlib.pyplot as plt\n",
    "\n",
    "Y_history = pd.DataFrame(ga.all_history_Y)\n",
    "fig, ax = plt.subplots(2, 1)\n",
    "ax[0].plot(Y_history.index, Y_history.values, '.', color='red')\n",
    "Y_history.min(axis=1).cummin().plot(kind='line')\n",
    "plt.show()"
   ]
  }
 ],
 "metadata": {
  "kernelspec": {
   "display_name": "Python 3 (ipykernel)",
   "language": "python",
   "name": "python3"
  },
  "language_info": {
   "codemirror_mode": {
    "name": "ipython",
    "version": 3
   },
   "file_extension": ".py",
   "mimetype": "text/x-python",
   "name": "python",
   "nbconvert_exporter": "python",
   "pygments_lexer": "ipython3",
   "version": "3.9.7"
  }
 },
 "nbformat": 4,
 "nbformat_minor": 5
}
